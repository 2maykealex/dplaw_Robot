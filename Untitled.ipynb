{
 "cells": [
  {
   "cell_type": "code",
   "execution_count": 39,
   "metadata": {},
   "outputs": [],
   "source": []
  },
  {
   "cell_type": "code",
   "execution_count": 40,
   "metadata": {},
   "outputs": [],
   "source": []
  },
  {
   "cell_type": "code",
   "execution_count": 49,
   "metadata": {},
   "outputs": [
    {
     "name": "stdout",
     "output_type": "stream",
     "text": [
      "O Banco Bradesco S.A. foi processado por ABIGAIL MAIA DA SILVA\n",
      "O Banco Bradesco S.A. foi processado por ABRAAO VIEIRA DA COSTA\n",
      "O Banco Bradesco S.A. foi processado por ACACIO FERNANDES DE SOUZA\n"
     ]
    }
   ],
   "source": [
    "ix = len(df)\n",
    "for i in range(ix):\n",
    "    print(\"O {} foi processado por {}\".format(df['Nome'][i], df['Adversa'][i]))"
   ]
  },
  {
   "cell_type": "code",
   "execution_count": 50,
   "metadata": {},
   "outputs": [
    {
     "data": {
      "text/html": [
       "<div>\n",
       "<style scoped>\n",
       "    .dataframe tbody tr th:only-of-type {\n",
       "        vertical-align: middle;\n",
       "    }\n",
       "\n",
       "    .dataframe tbody tr th {\n",
       "        vertical-align: top;\n",
       "    }\n",
       "\n",
       "    .dataframe thead th {\n",
       "        text-align: right;\n",
       "    }\n",
       "</style>\n",
       "<table border=\"1\" class=\"dataframe\">\n",
       "  <thead>\n",
       "    <tr style=\"text-align: right;\">\n",
       "      <th></th>\n",
       "      <th>Nome</th>\n",
       "      <th>Grupo</th>\n",
       "      <th>CNJ</th>\n",
       "      <th>Numero</th>\n",
       "      <th>Pasta</th>\n",
       "      <th>Status</th>\n",
       "      <th>CNPJ</th>\n",
       "      <th>CPF</th>\n",
       "      <th>Gprocesso</th>\n",
       "      <th>Adversa</th>\n",
       "      <th>Tipo</th>\n",
       "      <th>Comarca</th>\n",
       "      <th>Local</th>\n",
       "      <th>Responsável</th>\n",
       "      <th>Vcausa</th>\n",
       "      <th>DataContratacao</th>\n",
       "      <th>UF</th>\n",
       "    </tr>\n",
       "  </thead>\n",
       "  <tbody>\n",
       "    <tr>\n",
       "      <th>0</th>\n",
       "      <td>Banco Bradesco S.A.</td>\n",
       "      <td>Grupo Bradesco</td>\n",
       "      <td>0832443-47.2018.8.14.0301</td>\n",
       "      <td>0832443-47.2018.8.14.0301</td>\n",
       "      <td>1800290606</td>\n",
       "      <td>DEMANDADO</td>\n",
       "      <td>NaN</td>\n",
       "      <td>NaN</td>\n",
       "      <td>Grupo 4</td>\n",
       "      <td>ABIGAIL MAIA DA SILVA</td>\n",
       "      <td>J</td>\n",
       "      <td>Belém</td>\n",
       "      <td>6ª-º Juizado Especial Cível</td>\n",
       "      <td>advbradesco</td>\n",
       "      <td>10314.30</td>\n",
       "      <td>2018-05-18</td>\n",
       "      <td>PA</td>\n",
       "    </tr>\n",
       "    <tr>\n",
       "      <th>1</th>\n",
       "      <td>Banco Bradesco S.A.</td>\n",
       "      <td>Grupo Bradesco</td>\n",
       "      <td>7017341-35.2017.8.22.0001</td>\n",
       "      <td>7017341-35.2017.8.22.0001</td>\n",
       "      <td>1700755381</td>\n",
       "      <td>DEMANDADO</td>\n",
       "      <td>NaN</td>\n",
       "      <td>NaN</td>\n",
       "      <td>Grupo 4</td>\n",
       "      <td>ABRAAO VIEIRA DA COSTA</td>\n",
       "      <td>J</td>\n",
       "      <td>Porto Velho</td>\n",
       "      <td>2ª-º Vara Cível</td>\n",
       "      <td>cbradesco</td>\n",
       "      <td>10000.00</td>\n",
       "      <td>2017-12-14</td>\n",
       "      <td>RO</td>\n",
       "    </tr>\n",
       "    <tr>\n",
       "      <th>2</th>\n",
       "      <td>Banco Bradesco S.A.</td>\n",
       "      <td>Grupo Bradesco</td>\n",
       "      <td>7001091-21.2017.8.22.0002</td>\n",
       "      <td>7001091-21.2017.8.22.0002</td>\n",
       "      <td>1700117977</td>\n",
       "      <td>DEMANDADO</td>\n",
       "      <td>NaN</td>\n",
       "      <td>NaN</td>\n",
       "      <td>Grupo 4</td>\n",
       "      <td>ACACIO FERNANDES DE SOUZA</td>\n",
       "      <td>J</td>\n",
       "      <td>Ariquemes</td>\n",
       "      <td>Juizado Especial Cível</td>\n",
       "      <td>cbradesco</td>\n",
       "      <td>38621.82</td>\n",
       "      <td>2017-03-07</td>\n",
       "      <td>RO</td>\n",
       "    </tr>\n",
       "  </tbody>\n",
       "</table>\n",
       "</div>"
      ],
      "text/plain": [
       "                  Nome           Grupo                        CNJ  \\\n",
       "0  Banco Bradesco S.A.  Grupo Bradesco  0832443-47.2018.8.14.0301   \n",
       "1  Banco Bradesco S.A.  Grupo Bradesco  7017341-35.2017.8.22.0001   \n",
       "2  Banco Bradesco S.A.  Grupo Bradesco  7001091-21.2017.8.22.0002   \n",
       "\n",
       "                      Numero       Pasta     Status  CNPJ  CPF Gprocesso  \\\n",
       "0  0832443-47.2018.8.14.0301  1800290606  DEMANDADO   NaN  NaN   Grupo 4   \n",
       "1  7017341-35.2017.8.22.0001  1700755381  DEMANDADO   NaN  NaN   Grupo 4   \n",
       "2  7001091-21.2017.8.22.0002  1700117977  DEMANDADO   NaN  NaN   Grupo 4   \n",
       "\n",
       "                     Adversa Tipo      Comarca                        Local  \\\n",
       "0      ABIGAIL MAIA DA SILVA    J        Belém  6ª-º Juizado Especial Cível   \n",
       "1     ABRAAO VIEIRA DA COSTA    J  Porto Velho              2ª-º Vara Cível   \n",
       "2  ACACIO FERNANDES DE SOUZA    J    Ariquemes       Juizado Especial Cível   \n",
       "\n",
       "   Responsável    Vcausa DataContratacao  UF  \n",
       "0  advbradesco  10314.30      2018-05-18  PA  \n",
       "1    cbradesco  10000.00      2017-12-14  RO  \n",
       "2    cbradesco  38621.82      2017-03-07  RO  "
      ]
     },
     "execution_count": 50,
     "metadata": {},
     "output_type": "execute_result"
    }
   ],
   "source": [
    "df"
   ]
  }
 ],
 "metadata": {
  "kernelspec": {
   "display_name": "Python 3",
   "language": "python",
   "name": "python3"
  },
  "language_info": {
   "codemirror_mode": {
    "name": "ipython",
    "version": 3
   },
   "file_extension": ".py",
   "mimetype": "text/x-python",
   "name": "python",
   "nbconvert_exporter": "python",
   "pygments_lexer": "ipython3",
   "version": "3.6.4"
  }
 },
 "nbformat": 4,
 "nbformat_minor": 2
}
